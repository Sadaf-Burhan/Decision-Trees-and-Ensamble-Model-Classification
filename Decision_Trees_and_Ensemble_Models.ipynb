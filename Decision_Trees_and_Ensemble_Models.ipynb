{
  "cells": [
    {
      "cell_type": "markdown",
      "metadata": {
        "id": "9OBvBOCkPrga"
      },
      "source": [
        "## Decision Trees and Ensemble Models in classification and regression problems."
      ]
    },
    {
      "cell_type": "code",
      "execution_count": null,
      "metadata": {
        "id": "R376ZBnBPrge"
      },
      "outputs": [],
      "source": [
        "#required imports\n",
        "import numpy as np\n",
        "import pandas as pd\n",
        "import seaborn as sns\n",
        "import matplotlib.pyplot as plt\n",
        "\n",
        "from sklearn.model_selection import train_test_split\n",
        "from sklearn.preprocessing import StandardScaler\n",
        "from sklearn.preprocessing import MinMaxScaler\n",
        "from sklearn.compose import make_column_transformer\n",
        "from sklearn.preprocessing import OneHotEncoder\n",
        "from sklearn.pipeline import Pipeline\n",
        "from sklearn.impute import SimpleImputer\n",
        "from sklearn.preprocessing import FunctionTransformer\n",
        "from sklearn.model_selection import GridSearchCV\n",
        "from sklearn.tree import DecisionTreeClassifier\n",
        "from sklearn.ensemble import ExtraTreesClassifier\n",
        "from sklearn.ensemble import RandomForestClassifier\n",
        "from sklearn.ensemble import GradientBoostingClassifier\n",
        "from sklearn.ensemble import AdaBoostClassifier\n",
        "from sklearn.metrics import confusion_matrix,accuracy_score\n",
        "from sklearn.metrics import roc_curve,roc_auc_score\n",
        "from sklearn.metrics import classification_report\n",
        "from sklearn.model_selection import RandomizedSearchCV\n",
        "from sklearn.model_selection import StratifiedKFold\n",
        "from time import time"
      ]
    },
    {
      "cell_type": "code",
      "source": [
        "!pip install --upgrade xlrd"
      ],
      "metadata": {
        "id": "l-YKDZYNeS-m",
        "colab": {
          "base_uri": "https://localhost:8080/"
        },
        "outputId": "3467587b-0039-4157-995c-758a81c61601"
      },
      "execution_count": null,
      "outputs": [
        {
          "output_type": "stream",
          "name": "stdout",
          "text": [
            "Looking in indexes: https://pypi.org/simple, https://us-python.pkg.dev/colab-wheels/public/simple/\n",
            "Requirement already satisfied: xlrd in /usr/local/lib/python3.7/dist-packages (2.0.1)\n"
          ]
        }
      ]
    },
    {
      "cell_type": "markdown",
      "metadata": {
        "id": "ddF9R5pdPrgi"
      },
      "source": [
        "After installing the necessary libraries, proceed to download the data. Since reading the excel file won't create headers by default, we added two more operations to substitute the columns."
      ]
    },
    {
      "cell_type": "code",
      "execution_count": null,
      "metadata": {
        "id": "CtNCjjr7Prgj"
      },
      "outputs": [],
      "source": [
        "#loading the data\n",
        "dataset = pd.read_excel(\"https://archive.ics.uci.edu/ml/machine-learning-databases/00350/default%20of%20credit%20card%20clients.xls\",header=1)\n",
        "#dataset.columns = dataset.iloc[0]\n",
        "#dataset.drop(['ID'], inplace=True)"
      ]
    },
    {
      "cell_type": "markdown",
      "metadata": {
        "id": "cMh-sEIdPrgl"
      },
      "source": [
        "In the following, you can take a look into the dataset."
      ]
    },
    {
      "cell_type": "code",
      "execution_count": null,
      "metadata": {
        "id": "E0lAPOXQPrgl",
        "colab": {
          "base_uri": "https://localhost:8080/",
          "height": 351
        },
        "outputId": "5be83fde-293e-474a-dc2b-f217267986af"
      },
      "outputs": [
        {
          "output_type": "execute_result",
          "data": {
            "text/plain": [
              "   ID  LIMIT_BAL  SEX  EDUCATION  MARRIAGE  AGE  PAY_0  PAY_2  PAY_3  PAY_4  \\\n",
              "0   1      20000    2          2         1   24      2      2     -1     -1   \n",
              "1   2     120000    2          2         2   26     -1      2      0      0   \n",
              "2   3      90000    2          2         2   34      0      0      0      0   \n",
              "3   4      50000    2          2         1   37      0      0      0      0   \n",
              "4   5      50000    1          2         1   57     -1      0     -1      0   \n",
              "\n",
              "   ...  BILL_AMT4  BILL_AMT5  BILL_AMT6  PAY_AMT1  PAY_AMT2  PAY_AMT3  \\\n",
              "0  ...          0          0          0         0       689         0   \n",
              "1  ...       3272       3455       3261         0      1000      1000   \n",
              "2  ...      14331      14948      15549      1518      1500      1000   \n",
              "3  ...      28314      28959      29547      2000      2019      1200   \n",
              "4  ...      20940      19146      19131      2000     36681     10000   \n",
              "\n",
              "   PAY_AMT4  PAY_AMT5  PAY_AMT6  default payment next month  \n",
              "0         0         0         0                           1  \n",
              "1      1000         0      2000                           1  \n",
              "2      1000      1000      5000                           0  \n",
              "3      1100      1069      1000                           0  \n",
              "4      9000       689       679                           0  \n",
              "\n",
              "[5 rows x 25 columns]"
            ],
            "text/html": [
              "\n",
              "  <div id=\"df-bdb1e431-8523-4ac9-9db8-793c26c84a07\">\n",
              "    <div class=\"colab-df-container\">\n",
              "      <div>\n",
              "<style scoped>\n",
              "    .dataframe tbody tr th:only-of-type {\n",
              "        vertical-align: middle;\n",
              "    }\n",
              "\n",
              "    .dataframe tbody tr th {\n",
              "        vertical-align: top;\n",
              "    }\n",
              "\n",
              "    .dataframe thead th {\n",
              "        text-align: right;\n",
              "    }\n",
              "</style>\n",
              "<table border=\"1\" class=\"dataframe\">\n",
              "  <thead>\n",
              "    <tr style=\"text-align: right;\">\n",
              "      <th></th>\n",
              "      <th>ID</th>\n",
              "      <th>LIMIT_BAL</th>\n",
              "      <th>SEX</th>\n",
              "      <th>EDUCATION</th>\n",
              "      <th>MARRIAGE</th>\n",
              "      <th>AGE</th>\n",
              "      <th>PAY_0</th>\n",
              "      <th>PAY_2</th>\n",
              "      <th>PAY_3</th>\n",
              "      <th>PAY_4</th>\n",
              "      <th>...</th>\n",
              "      <th>BILL_AMT4</th>\n",
              "      <th>BILL_AMT5</th>\n",
              "      <th>BILL_AMT6</th>\n",
              "      <th>PAY_AMT1</th>\n",
              "      <th>PAY_AMT2</th>\n",
              "      <th>PAY_AMT3</th>\n",
              "      <th>PAY_AMT4</th>\n",
              "      <th>PAY_AMT5</th>\n",
              "      <th>PAY_AMT6</th>\n",
              "      <th>default payment next month</th>\n",
              "    </tr>\n",
              "  </thead>\n",
              "  <tbody>\n",
              "    <tr>\n",
              "      <th>0</th>\n",
              "      <td>1</td>\n",
              "      <td>20000</td>\n",
              "      <td>2</td>\n",
              "      <td>2</td>\n",
              "      <td>1</td>\n",
              "      <td>24</td>\n",
              "      <td>2</td>\n",
              "      <td>2</td>\n",
              "      <td>-1</td>\n",
              "      <td>-1</td>\n",
              "      <td>...</td>\n",
              "      <td>0</td>\n",
              "      <td>0</td>\n",
              "      <td>0</td>\n",
              "      <td>0</td>\n",
              "      <td>689</td>\n",
              "      <td>0</td>\n",
              "      <td>0</td>\n",
              "      <td>0</td>\n",
              "      <td>0</td>\n",
              "      <td>1</td>\n",
              "    </tr>\n",
              "    <tr>\n",
              "      <th>1</th>\n",
              "      <td>2</td>\n",
              "      <td>120000</td>\n",
              "      <td>2</td>\n",
              "      <td>2</td>\n",
              "      <td>2</td>\n",
              "      <td>26</td>\n",
              "      <td>-1</td>\n",
              "      <td>2</td>\n",
              "      <td>0</td>\n",
              "      <td>0</td>\n",
              "      <td>...</td>\n",
              "      <td>3272</td>\n",
              "      <td>3455</td>\n",
              "      <td>3261</td>\n",
              "      <td>0</td>\n",
              "      <td>1000</td>\n",
              "      <td>1000</td>\n",
              "      <td>1000</td>\n",
              "      <td>0</td>\n",
              "      <td>2000</td>\n",
              "      <td>1</td>\n",
              "    </tr>\n",
              "    <tr>\n",
              "      <th>2</th>\n",
              "      <td>3</td>\n",
              "      <td>90000</td>\n",
              "      <td>2</td>\n",
              "      <td>2</td>\n",
              "      <td>2</td>\n",
              "      <td>34</td>\n",
              "      <td>0</td>\n",
              "      <td>0</td>\n",
              "      <td>0</td>\n",
              "      <td>0</td>\n",
              "      <td>...</td>\n",
              "      <td>14331</td>\n",
              "      <td>14948</td>\n",
              "      <td>15549</td>\n",
              "      <td>1518</td>\n",
              "      <td>1500</td>\n",
              "      <td>1000</td>\n",
              "      <td>1000</td>\n",
              "      <td>1000</td>\n",
              "      <td>5000</td>\n",
              "      <td>0</td>\n",
              "    </tr>\n",
              "    <tr>\n",
              "      <th>3</th>\n",
              "      <td>4</td>\n",
              "      <td>50000</td>\n",
              "      <td>2</td>\n",
              "      <td>2</td>\n",
              "      <td>1</td>\n",
              "      <td>37</td>\n",
              "      <td>0</td>\n",
              "      <td>0</td>\n",
              "      <td>0</td>\n",
              "      <td>0</td>\n",
              "      <td>...</td>\n",
              "      <td>28314</td>\n",
              "      <td>28959</td>\n",
              "      <td>29547</td>\n",
              "      <td>2000</td>\n",
              "      <td>2019</td>\n",
              "      <td>1200</td>\n",
              "      <td>1100</td>\n",
              "      <td>1069</td>\n",
              "      <td>1000</td>\n",
              "      <td>0</td>\n",
              "    </tr>\n",
              "    <tr>\n",
              "      <th>4</th>\n",
              "      <td>5</td>\n",
              "      <td>50000</td>\n",
              "      <td>1</td>\n",
              "      <td>2</td>\n",
              "      <td>1</td>\n",
              "      <td>57</td>\n",
              "      <td>-1</td>\n",
              "      <td>0</td>\n",
              "      <td>-1</td>\n",
              "      <td>0</td>\n",
              "      <td>...</td>\n",
              "      <td>20940</td>\n",
              "      <td>19146</td>\n",
              "      <td>19131</td>\n",
              "      <td>2000</td>\n",
              "      <td>36681</td>\n",
              "      <td>10000</td>\n",
              "      <td>9000</td>\n",
              "      <td>689</td>\n",
              "      <td>679</td>\n",
              "      <td>0</td>\n",
              "    </tr>\n",
              "  </tbody>\n",
              "</table>\n",
              "<p>5 rows × 25 columns</p>\n",
              "</div>\n",
              "      <button class=\"colab-df-convert\" onclick=\"convertToInteractive('df-bdb1e431-8523-4ac9-9db8-793c26c84a07')\"\n",
              "              title=\"Convert this dataframe to an interactive table.\"\n",
              "              style=\"display:none;\">\n",
              "        \n",
              "  <svg xmlns=\"http://www.w3.org/2000/svg\" height=\"24px\"viewBox=\"0 0 24 24\"\n",
              "       width=\"24px\">\n",
              "    <path d=\"M0 0h24v24H0V0z\" fill=\"none\"/>\n",
              "    <path d=\"M18.56 5.44l.94 2.06.94-2.06 2.06-.94-2.06-.94-.94-2.06-.94 2.06-2.06.94zm-11 1L8.5 8.5l.94-2.06 2.06-.94-2.06-.94L8.5 2.5l-.94 2.06-2.06.94zm10 10l.94 2.06.94-2.06 2.06-.94-2.06-.94-.94-2.06-.94 2.06-2.06.94z\"/><path d=\"M17.41 7.96l-1.37-1.37c-.4-.4-.92-.59-1.43-.59-.52 0-1.04.2-1.43.59L10.3 9.45l-7.72 7.72c-.78.78-.78 2.05 0 2.83L4 21.41c.39.39.9.59 1.41.59.51 0 1.02-.2 1.41-.59l7.78-7.78 2.81-2.81c.8-.78.8-2.07 0-2.86zM5.41 20L4 18.59l7.72-7.72 1.47 1.35L5.41 20z\"/>\n",
              "  </svg>\n",
              "      </button>\n",
              "      \n",
              "  <style>\n",
              "    .colab-df-container {\n",
              "      display:flex;\n",
              "      flex-wrap:wrap;\n",
              "      gap: 12px;\n",
              "    }\n",
              "\n",
              "    .colab-df-convert {\n",
              "      background-color: #E8F0FE;\n",
              "      border: none;\n",
              "      border-radius: 50%;\n",
              "      cursor: pointer;\n",
              "      display: none;\n",
              "      fill: #1967D2;\n",
              "      height: 32px;\n",
              "      padding: 0 0 0 0;\n",
              "      width: 32px;\n",
              "    }\n",
              "\n",
              "    .colab-df-convert:hover {\n",
              "      background-color: #E2EBFA;\n",
              "      box-shadow: 0px 1px 2px rgba(60, 64, 67, 0.3), 0px 1px 3px 1px rgba(60, 64, 67, 0.15);\n",
              "      fill: #174EA6;\n",
              "    }\n",
              "\n",
              "    [theme=dark] .colab-df-convert {\n",
              "      background-color: #3B4455;\n",
              "      fill: #D2E3FC;\n",
              "    }\n",
              "\n",
              "    [theme=dark] .colab-df-convert:hover {\n",
              "      background-color: #434B5C;\n",
              "      box-shadow: 0px 1px 3px 1px rgba(0, 0, 0, 0.15);\n",
              "      filter: drop-shadow(0px 1px 2px rgba(0, 0, 0, 0.3));\n",
              "      fill: #FFFFFF;\n",
              "    }\n",
              "  </style>\n",
              "\n",
              "      <script>\n",
              "        const buttonEl =\n",
              "          document.querySelector('#df-bdb1e431-8523-4ac9-9db8-793c26c84a07 button.colab-df-convert');\n",
              "        buttonEl.style.display =\n",
              "          google.colab.kernel.accessAllowed ? 'block' : 'none';\n",
              "\n",
              "        async function convertToInteractive(key) {\n",
              "          const element = document.querySelector('#df-bdb1e431-8523-4ac9-9db8-793c26c84a07');\n",
              "          const dataTable =\n",
              "            await google.colab.kernel.invokeFunction('convertToInteractive',\n",
              "                                                     [key], {});\n",
              "          if (!dataTable) return;\n",
              "\n",
              "          const docLinkHtml = 'Like what you see? Visit the ' +\n",
              "            '<a target=\"_blank\" href=https://colab.research.google.com/notebooks/data_table.ipynb>data table notebook</a>'\n",
              "            + ' to learn more about interactive tables.';\n",
              "          element.innerHTML = '';\n",
              "          dataTable['output_type'] = 'display_data';\n",
              "          await google.colab.output.renderOutput(dataTable, element);\n",
              "          const docLink = document.createElement('div');\n",
              "          docLink.innerHTML = docLinkHtml;\n",
              "          element.appendChild(docLink);\n",
              "        }\n",
              "      </script>\n",
              "    </div>\n",
              "  </div>\n",
              "  "
            ]
          },
          "metadata": {},
          "execution_count": 110
        }
      ],
      "source": [
        "dataset.head(5)"
      ]
    },
    {
      "cell_type": "code",
      "source": [
        "cc_df=dataset.copy()"
      ],
      "metadata": {
        "id": "iWoStDtSG1nV"
      },
      "execution_count": null,
      "outputs": []
    },
    {
      "cell_type": "code",
      "execution_count": null,
      "metadata": {
        "id": "1Qr1SPGlPrgr",
        "colab": {
          "base_uri": "https://localhost:8080/",
          "height": 173
        },
        "outputId": "54a414b8-3f96-42e2-b273-7c84521d6f8a"
      },
      "outputs": [
        {
          "output_type": "execute_result",
          "data": {
            "text/plain": [
              "           SEX              EDUCATION      MARRIAGE  \\\n",
              "count    30000                  30000         30000   \n",
              "unique  [2, 1]  [2, 1, 3, 5, 4, 6, 0]  [1, 2, 3, 0]   \n",
              "\n",
              "                                                      AGE  \\\n",
              "count                                               30000   \n",
              "unique  [24, 26, 34, 37, 57, 29, 23, 28, 35, 51, 41, 3...   \n",
              "\n",
              "                                      PAY_0  \\\n",
              "count                                 30000   \n",
              "unique  [2, -1, 0, -2, 1, 3, 4, 8, 7, 5, 6]   \n",
              "\n",
              "                                      PAY_2  \\\n",
              "count                                 30000   \n",
              "unique  [2, 0, -1, -2, 3, 5, 7, 4, 1, 6, 8]   \n",
              "\n",
              "                                      PAY_3  \\\n",
              "count                                 30000   \n",
              "unique  [-1, 0, 2, -2, 3, 4, 6, 7, 1, 5, 8]   \n",
              "\n",
              "                                      PAY_4                             PAY_5  \\\n",
              "count                                 30000                             30000   \n",
              "unique  [-1, 0, -2, 2, 3, 4, 5, 7, 6, 1, 8]  [-2, 0, -1, 2, 3, 5, 4, 7, 8, 6]   \n",
              "\n",
              "                                   PAY_6  \n",
              "count                              30000  \n",
              "unique  [-2, 2, 0, -1, 3, 6, 4, 7, 8, 5]  "
            ],
            "text/html": [
              "\n",
              "  <div id=\"df-ad868fff-a194-4916-b5ec-5dd58df51e00\">\n",
              "    <div class=\"colab-df-container\">\n",
              "      <div>\n",
              "<style scoped>\n",
              "    .dataframe tbody tr th:only-of-type {\n",
              "        vertical-align: middle;\n",
              "    }\n",
              "\n",
              "    .dataframe tbody tr th {\n",
              "        vertical-align: top;\n",
              "    }\n",
              "\n",
              "    .dataframe thead th {\n",
              "        text-align: right;\n",
              "    }\n",
              "</style>\n",
              "<table border=\"1\" class=\"dataframe\">\n",
              "  <thead>\n",
              "    <tr style=\"text-align: right;\">\n",
              "      <th></th>\n",
              "      <th>SEX</th>\n",
              "      <th>EDUCATION</th>\n",
              "      <th>MARRIAGE</th>\n",
              "      <th>AGE</th>\n",
              "      <th>PAY_0</th>\n",
              "      <th>PAY_2</th>\n",
              "      <th>PAY_3</th>\n",
              "      <th>PAY_4</th>\n",
              "      <th>PAY_5</th>\n",
              "      <th>PAY_6</th>\n",
              "    </tr>\n",
              "  </thead>\n",
              "  <tbody>\n",
              "    <tr>\n",
              "      <th>count</th>\n",
              "      <td>30000</td>\n",
              "      <td>30000</td>\n",
              "      <td>30000</td>\n",
              "      <td>30000</td>\n",
              "      <td>30000</td>\n",
              "      <td>30000</td>\n",
              "      <td>30000</td>\n",
              "      <td>30000</td>\n",
              "      <td>30000</td>\n",
              "      <td>30000</td>\n",
              "    </tr>\n",
              "    <tr>\n",
              "      <th>unique</th>\n",
              "      <td>[2, 1]</td>\n",
              "      <td>[2, 1, 3, 5, 4, 6, 0]</td>\n",
              "      <td>[1, 2, 3, 0]</td>\n",
              "      <td>[24, 26, 34, 37, 57, 29, 23, 28, 35, 51, 41, 3...</td>\n",
              "      <td>[2, -1, 0, -2, 1, 3, 4, 8, 7, 5, 6]</td>\n",
              "      <td>[2, 0, -1, -2, 3, 5, 7, 4, 1, 6, 8]</td>\n",
              "      <td>[-1, 0, 2, -2, 3, 4, 6, 7, 1, 5, 8]</td>\n",
              "      <td>[-1, 0, -2, 2, 3, 4, 5, 7, 6, 1, 8]</td>\n",
              "      <td>[-2, 0, -1, 2, 3, 5, 4, 7, 8, 6]</td>\n",
              "      <td>[-2, 2, 0, -1, 3, 6, 4, 7, 8, 5]</td>\n",
              "    </tr>\n",
              "  </tbody>\n",
              "</table>\n",
              "</div>\n",
              "      <button class=\"colab-df-convert\" onclick=\"convertToInteractive('df-ad868fff-a194-4916-b5ec-5dd58df51e00')\"\n",
              "              title=\"Convert this dataframe to an interactive table.\"\n",
              "              style=\"display:none;\">\n",
              "        \n",
              "  <svg xmlns=\"http://www.w3.org/2000/svg\" height=\"24px\"viewBox=\"0 0 24 24\"\n",
              "       width=\"24px\">\n",
              "    <path d=\"M0 0h24v24H0V0z\" fill=\"none\"/>\n",
              "    <path d=\"M18.56 5.44l.94 2.06.94-2.06 2.06-.94-2.06-.94-.94-2.06-.94 2.06-2.06.94zm-11 1L8.5 8.5l.94-2.06 2.06-.94-2.06-.94L8.5 2.5l-.94 2.06-2.06.94zm10 10l.94 2.06.94-2.06 2.06-.94-2.06-.94-.94-2.06-.94 2.06-2.06.94z\"/><path d=\"M17.41 7.96l-1.37-1.37c-.4-.4-.92-.59-1.43-.59-.52 0-1.04.2-1.43.59L10.3 9.45l-7.72 7.72c-.78.78-.78 2.05 0 2.83L4 21.41c.39.39.9.59 1.41.59.51 0 1.02-.2 1.41-.59l7.78-7.78 2.81-2.81c.8-.78.8-2.07 0-2.86zM5.41 20L4 18.59l7.72-7.72 1.47 1.35L5.41 20z\"/>\n",
              "  </svg>\n",
              "      </button>\n",
              "      \n",
              "  <style>\n",
              "    .colab-df-container {\n",
              "      display:flex;\n",
              "      flex-wrap:wrap;\n",
              "      gap: 12px;\n",
              "    }\n",
              "\n",
              "    .colab-df-convert {\n",
              "      background-color: #E8F0FE;\n",
              "      border: none;\n",
              "      border-radius: 50%;\n",
              "      cursor: pointer;\n",
              "      display: none;\n",
              "      fill: #1967D2;\n",
              "      height: 32px;\n",
              "      padding: 0 0 0 0;\n",
              "      width: 32px;\n",
              "    }\n",
              "\n",
              "    .colab-df-convert:hover {\n",
              "      background-color: #E2EBFA;\n",
              "      box-shadow: 0px 1px 2px rgba(60, 64, 67, 0.3), 0px 1px 3px 1px rgba(60, 64, 67, 0.15);\n",
              "      fill: #174EA6;\n",
              "    }\n",
              "\n",
              "    [theme=dark] .colab-df-convert {\n",
              "      background-color: #3B4455;\n",
              "      fill: #D2E3FC;\n",
              "    }\n",
              "\n",
              "    [theme=dark] .colab-df-convert:hover {\n",
              "      background-color: #434B5C;\n",
              "      box-shadow: 0px 1px 3px 1px rgba(0, 0, 0, 0.15);\n",
              "      filter: drop-shadow(0px 1px 2px rgba(0, 0, 0, 0.3));\n",
              "      fill: #FFFFFF;\n",
              "    }\n",
              "  </style>\n",
              "\n",
              "      <script>\n",
              "        const buttonEl =\n",
              "          document.querySelector('#df-ad868fff-a194-4916-b5ec-5dd58df51e00 button.colab-df-convert');\n",
              "        buttonEl.style.display =\n",
              "          google.colab.kernel.accessAllowed ? 'block' : 'none';\n",
              "\n",
              "        async function convertToInteractive(key) {\n",
              "          const element = document.querySelector('#df-ad868fff-a194-4916-b5ec-5dd58df51e00');\n",
              "          const dataTable =\n",
              "            await google.colab.kernel.invokeFunction('convertToInteractive',\n",
              "                                                     [key], {});\n",
              "          if (!dataTable) return;\n",
              "\n",
              "          const docLinkHtml = 'Like what you see? Visit the ' +\n",
              "            '<a target=\"_blank\" href=https://colab.research.google.com/notebooks/data_table.ipynb>data table notebook</a>'\n",
              "            + ' to learn more about interactive tables.';\n",
              "          element.innerHTML = '';\n",
              "          dataTable['output_type'] = 'display_data';\n",
              "          await google.colab.output.renderOutput(dataTable, element);\n",
              "          const docLink = document.createElement('div');\n",
              "          docLink.innerHTML = docLinkHtml;\n",
              "          element.appendChild(docLink);\n",
              "        }\n",
              "      </script>\n",
              "    </div>\n",
              "  </div>\n",
              "  "
            ]
          },
          "metadata": {},
          "execution_count": 112
        }
      ],
      "source": [
        "tmp=cc_df.loc[:,'SEX': 'PAY_6'].agg(['count','unique'])\n",
        "tmp"
      ]
    },
    {
      "cell_type": "code",
      "source": [
        "cc_df['default payment next month'].value_counts()/len(cc_df) *100"
      ],
      "metadata": {
        "colab": {
          "base_uri": "https://localhost:8080/"
        },
        "id": "XloFqkvoHe1G",
        "outputId": "e7829666-8714-45e7-f9ea-1ad9eca41087"
      },
      "execution_count": null,
      "outputs": [
        {
          "output_type": "execute_result",
          "data": {
            "text/plain": [
              "0    77.88\n",
              "1    22.12\n",
              "Name: default payment next month, dtype: float64"
            ]
          },
          "metadata": {},
          "execution_count": 113
        }
      ]
    },
    {
      "cell_type": "code",
      "source": [
        "categorical_vars=['EDUCATION','MARRIAGE', 'PAY_0',\n",
        "       'PAY_2', 'PAY_3', 'PAY_4', 'PAY_5', 'PAY_6']\n",
        "Discrete_vars=['AGE','LIMIT_BAL','BILL_AMT1', 'BILL_AMT2',\n",
        "       'BILL_AMT3', 'BILL_AMT4', 'BILL_AMT5', 'BILL_AMT6', 'PAY_AMT1',\n",
        "       'PAY_AMT2', 'PAY_AMT3', 'PAY_AMT4', 'PAY_AMT5', 'PAY_AMT6']\n",
        "Target_var=['default payment next month']"
      ],
      "metadata": {
        "id": "6oCytesWHvkH"
      },
      "execution_count": null,
      "outputs": []
    },
    {
      "cell_type": "code",
      "source": [
        "#std_discrete_vars are more suitable for the standard scalar transformation\n",
        "std_discrete_vars=['AGE','LIMIT_BAL', 'BILL_AMT1', 'BILL_AMT2', 'BILL_AMT3', 'BILL_AMT4', 'BILL_AMT5', 'BILL_AMT6']\n",
        "# mm_discrete_vars are more suitable for the min max transformation\n",
        "mm_discrete_vars=['PAY_AMT1', 'PAY_AMT2', 'PAY_AMT3', 'PAY_AMT4', 'PAY_AMT5', 'PAY_AMT6']"
      ],
      "metadata": {
        "id": "9p6cA6xOJs31"
      },
      "execution_count": null,
      "outputs": []
    },
    {
      "cell_type": "code",
      "source": [
        "#mar_edu baseEstimator class to implement a custom function to transform the education and marriage column into correct categories.\n",
        "from sklearn.base import BaseEstimator, TransformerMixin #classes to inherit from when building custom transformers\n",
        "class mar_edu(BaseEstimator, TransformerMixin):\n",
        "    def __init__(self,val=[]):\n",
        "        self.val=val\n",
        "        \n",
        "    def fit(self, X, y=None):\n",
        "        if (len(self.val[0]) > 0):\n",
        "            X=self.edu_mar_trans(X)\n",
        "        return self\n",
        "   \n",
        "    def edu_mar_trans(self, X,y=None):\n",
        "        X[self.val[0]]=X[self.val[0]].map(lambda x: 4 if (x<1 or x>4) else x)\n",
        "        X[self.val[1]]=X[self.val[1]].map(lambda t: 3 if (t<1) else t)\n",
        "        return X\n",
        "    \n",
        "    def transform(self, X,y=None):\n",
        "        X[self.val[0]]=X[self.val[0]].map(lambda x: 4 if (x<1 or x>4) else x)\n",
        "        X[self.val[1]]=X[self.val[1]].map(lambda t: 3 if (t<1) else t)\n",
        "        return X"
      ],
      "metadata": {
        "id": "_0YqJ_UJJ526"
      },
      "execution_count": null,
      "outputs": []
    },
    {
      "cell_type": "code",
      "source": [
        "X=cc_df[categorical_vars+Discrete_vars]\n",
        "y=cc_df[Target_var]"
      ],
      "metadata": {
        "id": "mtzhFSnjH7SF"
      },
      "execution_count": null,
      "outputs": []
    },
    {
      "cell_type": "code",
      "source": [
        "X_train, X_test, y_train, y_test = train_test_split(X, y, test_size=0.20, random_state=123, stratify=y) #stratified sampling based on the target\n",
        "print(f\"X_train.shape: {X_train.shape}\")\n",
        "print(f\"X_test.shape: {X_test.shape}\")\n",
        "print(f\"y_train.shape: {y_train.shape}\")\n",
        "print(f\"y_test.shape: {y_test.shape}\")"
      ],
      "metadata": {
        "colab": {
          "base_uri": "https://localhost:8080/"
        },
        "id": "69sk0PguIEUS",
        "outputId": "3d813b4d-2d41-4ebc-e78d-c797fc5f1d42"
      },
      "execution_count": null,
      "outputs": [
        {
          "output_type": "stream",
          "name": "stdout",
          "text": [
            "X_train.shape: (24000, 22)\n",
            "X_test.shape: (6000, 22)\n",
            "y_train.shape: (24000, 1)\n",
            "y_test.shape: (6000, 1)\n"
          ]
        }
      ]
    },
    {
      "cell_type": "code",
      "source": [
        "#creating pre processors for discrete and categorical variables. \n",
        "preprocessor = make_column_transformer(\n",
        "    (StandardScaler(),std_discrete_vars),\n",
        "    (MinMaxScaler(),mm_discrete_vars),\n",
        "    (OneHotEncoder(), categorical_vars))"
      ],
      "metadata": {
        "id": "79_iv_uNJsLw"
      },
      "execution_count": null,
      "outputs": []
    },
    {
      "cell_type": "code",
      "source": [
        "#The pipeline is designed to first custom transform the education and marriage variables and then apply the transformations on the \n",
        "#discrete and categorical variables as designed in preprocessors.\n",
        "pipe_full=Pipeline([\n",
        "    ('edu_mar_trans',mar_edu(val=['EDUCATION','MARRIAGE'])),\n",
        "    ('cat_dis',preprocessor)])"
      ],
      "metadata": {
        "id": "GGPVlYdVKq2_"
      },
      "execution_count": null,
      "outputs": []
    },
    {
      "cell_type": "code",
      "source": [
        "pipe_full.fit(X_train,y_train)"
      ],
      "metadata": {
        "colab": {
          "base_uri": "https://localhost:8080/"
        },
        "id": "BpeGh_AcLlLv",
        "outputId": "8b748be3-a091-4105-bf37-103b79bd3a6f"
      },
      "execution_count": null,
      "outputs": [
        {
          "output_type": "execute_result",
          "data": {
            "text/plain": [
              "Pipeline(steps=[('edu_mar_trans', mar_edu(val=['EDUCATION', 'MARRIAGE'])),\n",
              "                ('cat_dis',\n",
              "                 ColumnTransformer(transformers=[('standardscaler',\n",
              "                                                  StandardScaler(),\n",
              "                                                  ['AGE', 'LIMIT_BAL',\n",
              "                                                   'BILL_AMT1', 'BILL_AMT2',\n",
              "                                                   'BILL_AMT3', 'BILL_AMT4',\n",
              "                                                   'BILL_AMT5', 'BILL_AMT6']),\n",
              "                                                 ('minmaxscaler',\n",
              "                                                  MinMaxScaler(),\n",
              "                                                  ['PAY_AMT1', 'PAY_AMT2',\n",
              "                                                   'PAY_AMT3', 'PAY_AMT4',\n",
              "                                                   'PAY_AMT5', 'PAY_AMT6']),\n",
              "                                                 ('onehotencoder',\n",
              "                                                  OneHotEncoder(),\n",
              "                                                  ['EDUCATION', 'MARRIAGE',\n",
              "                                                   'PAY_0', 'PAY_2', 'PAY_3',\n",
              "                                                   'PAY_4', 'PAY_5',\n",
              "                                                   'PAY_6'])]))])"
            ]
          },
          "metadata": {},
          "execution_count": 121
        }
      ]
    },
    {
      "cell_type": "code",
      "source": [
        "X_train_transformed = pipe_full.transform(X_train)\n",
        "X_test_transformed = pipe_full.transform(X_test)\n",
        "print(f\"X_train_transformed.shape: {X_train_transformed.shape}\")\n",
        "print(f\"X_test_transformed.shape: {X_test_transformed.shape}\")"
      ],
      "metadata": {
        "colab": {
          "base_uri": "https://localhost:8080/"
        },
        "id": "vP9CyobNL2SP",
        "outputId": "e6815a8f-cff2-4faf-a86f-2c74606bee66"
      },
      "execution_count": null,
      "outputs": [
        {
          "output_type": "stream",
          "name": "stdout",
          "text": [
            "X_train_transformed.shape: (24000, 85)\n",
            "X_test_transformed.shape: (6000, 85)\n"
          ]
        }
      ]
    },
    {
      "cell_type": "markdown",
      "source": [
        "### <font color='blue'>Applying Decision tree model on the X_train_transformed with settings as below:</font>\n",
        "DecisionTreeClassifier(max_depth=5, criterion='entropy')\n",
        "\n",
        "---\n",
        "\n"
      ],
      "metadata": {
        "id": "UV_J8vtPMASa"
      }
    },
    {
      "cell_type": "code",
      "source": [
        "tree_clf = DecisionTreeClassifier(max_depth=5, criterion='entropy',random_state=123)\n",
        "tree_clf.fit(X_train_transformed,np.ravel(y_train))"
      ],
      "metadata": {
        "colab": {
          "base_uri": "https://localhost:8080/"
        },
        "id": "zCTAaRBIL5a0",
        "outputId": "348a0ccc-5115-49e5-9125-ea5ea03341ac"
      },
      "execution_count": null,
      "outputs": [
        {
          "output_type": "execute_result",
          "data": {
            "text/plain": [
              "DecisionTreeClassifier(criterion='entropy', max_depth=5, random_state=123)"
            ]
          },
          "metadata": {},
          "execution_count": 123
        }
      ]
    },
    {
      "cell_type": "code",
      "source": [
        "#using the decision tree classifier, predicting target values with test data\n",
        "y_predict = tree_clf.predict(X_test_transformed) "
      ],
      "metadata": {
        "id": "ZzVPwBp4NJet"
      },
      "execution_count": null,
      "outputs": []
    },
    {
      "cell_type": "code",
      "source": [
        "# Plotting confusion matrix\n",
        "print('Test accuracy for Decision tree Classifier:'\\\n",
        "      , round(accuracy_score(y_test,y_predict)*100, 2), '%')\n",
        "plt.title('Confusion Matrix')\n",
        "sns.heatmap(confusion_matrix(y_test,y_predict), annot=True, cmap=\"YlGn\",fmt=\"d\")\n",
        "plt.xlabel('Predicted classes')\n",
        "plt.ylabel('True Classes')\n",
        "plt.show()"
      ],
      "metadata": {
        "colab": {
          "base_uri": "https://localhost:8080/",
          "height": 312
        },
        "id": "Ps3j4AHkN6KK",
        "outputId": "502cf0b6-2f10-40e1-b53d-ca84aba0efe0"
      },
      "execution_count": null,
      "outputs": [
        {
          "output_type": "stream",
          "name": "stdout",
          "text": [
            "Test accuracy for Decision tree Classifier: 81.78 %\n"
          ]
        },
        {
          "output_type": "display_data",
          "data": {
            "text/plain": [
              "<Figure size 432x288 with 2 Axes>"
            ],
            "image/png": "[encoded data removed]"
          },
          "metadata": {
            "needs_background": "light"
          }
        }
      ]
    },
    {
      "cell_type": "markdown",
      "source": [
        "### <font color='blue'>Applying Decision tree model on the X_train_transformed with different settings as below:</font>\n",
        "DecisionTreeClassifier(max_depth=5, criterion='gini')"
      ],
      "metadata": {
        "id": "10Hb1szmSfde"
      }
    },
    {
      "cell_type": "code",
      "source": [
        "tree_clf2 = DecisionTreeClassifier(max_depth=5, criterion='gini',random_state=123)\n",
        "tree_clf2.fit(X_train_transformed,np.ravel(y_train))"
      ],
      "metadata": {
        "colab": {
          "base_uri": "https://localhost:8080/"
        },
        "id": "us5XqSFETt9i",
        "outputId": "5d7062a2-2f4c-47cc-96a7-1923e0095c91"
      },
      "execution_count": null,
      "outputs": [
        {
          "output_type": "execute_result",
          "data": {
            "text/plain": [
              "DecisionTreeClassifier(max_depth=5, random_state=123)"
            ]
          },
          "metadata": {},
          "execution_count": 126
        }
      ]
    },
    {
      "cell_type": "code",
      "source": [
        "#using the decision tree classifier, predicting target values with test data\n",
        "y_predict2 = tree_clf2.predict(X_test_transformed)"
      ],
      "metadata": {
        "id": "oCEeKxdzTxHQ"
      },
      "execution_count": null,
      "outputs": []
    },
    {
      "cell_type": "code",
      "source": [
        "# Plotting confusion matrix\n",
        "print('Test accuracy for Decision tree Classifier:'\\\n",
        "      , round(accuracy_score(y_test,y_predict2)*100, 2), '%')\n",
        "plt.title('Confusion Matrix')\n",
        "sns.heatmap(confusion_matrix(y_test,y_predict2), annot=True, cmap=\"YlGn\",fmt=\"d\")\n",
        "plt.xlabel('Predicted classes')\n",
        "plt.ylabel('True Classes')\n",
        "plt.show()"
      ],
      "metadata": {
        "colab": {
          "base_uri": "https://localhost:8080/",
          "height": 312
        },
        "id": "4dJl4RFcT-QN",
        "outputId": "089ee484-8665-4f83-9fd6-6eb14fa03db3"
      },
      "execution_count": null,
      "outputs": [
        {
          "output_type": "stream",
          "name": "stdout",
          "text": [
            "Test accuracy for Decision tree Classifier: 81.88 %\n"
          ]
        },
        {
          "output_type": "display_data",
          "data": {
            "text/plain": [
              "<Figure size 432x288 with 2 Axes>"
            ],
            "image/png": "[encoded data removed]"
          },
          "metadata": {
            "needs_background": "light"
          }
        }
      ]
    },
    {
      "cell_type": "markdown",
      "source": [
        "###<font color='blue'>Analysis</font>"
      ],
      "metadata": {
        "id": "1Gg7h524eEwC"
      }
    },
    {
      "cell_type": "code",
      "source": [
        "def analysis_report(y_test,y_pred,text_mod):\n",
        "\n",
        "  CM=confusion_matrix(y_test,y_pred)\n",
        "  senstivity=CM[1,1]/(CM[1,1]+CM[1,0])\n",
        "  precision=CM[1,1]/(CM[1,1]+CM[0,1])\n",
        "  f_score=(2*(senstivity*precision))/(senstivity+precision)\n",
        "  title='Confusion Matrix of '+ text_mod\n",
        "  print(title+\": \\n {}\".format(CM))\n",
        "  print(\"Accuracy:\"\\\n",
        "      ,round(accuracy_score(y_test,  y_pred)*100,3),'%')\n",
        "  print(\"Recall/Sensitivity/True Positive Rate:\",round(senstivity,4))\n",
        "  print(\"Precision:\",round(precision,4))\n",
        "  print('F1 score:',round(f_score,3))"
      ],
      "metadata": {
        "id": "BRzm44rnSZHL"
      },
      "execution_count": null,
      "outputs": []
    },
    {
      "cell_type": "code",
      "source": [
        "analysis_report(y_test,y_predict,'criterion=entropy')"
      ],
      "metadata": {
        "colab": {
          "base_uri": "https://localhost:8080/"
        },
        "id": "337lWuBHSlMd",
        "outputId": "78f4d2d3-ed8b-4df4-9c39-436b4357f967"
      },
      "execution_count": null,
      "outputs": [
        {
          "output_type": "stream",
          "name": "stdout",
          "text": [
            "Confusion Matrix of criterion=entropy: \n",
            " [[4457  216]\n",
            " [ 877  450]]\n",
            "Accuracy: 81.783 %\n",
            "Recall/Sensitivity/True Positive Rate: 0.3391\n",
            "Precision: 0.6757\n",
            "F1 score: 0.452\n"
          ]
        }
      ]
    },
    {
      "cell_type": "code",
      "source": [
        "analysis_report(y_test,y_predict2,'criterion=gini')"
      ],
      "metadata": {
        "colab": {
          "base_uri": "https://localhost:8080/"
        },
        "id": "kbfarYUtS6SM",
        "outputId": "ea62e8f1-3811-4bc1-b344-452558e05bb5"
      },
      "execution_count": null,
      "outputs": [
        {
          "output_type": "stream",
          "name": "stdout",
          "text": [
            "Confusion Matrix of criterion=gini: \n",
            " [[4465  208]\n",
            " [ 879  448]]\n",
            "Accuracy: 81.883 %\n",
            "Recall/Sensitivity/True Positive Rate: 0.3376\n",
            "Precision: 0.6829\n",
            "F1 score: 0.452\n"
          ]
        }
      ]
    },
    {
      "cell_type": "markdown",
      "source": [
        "The Decision tree classifier with the Gini impurity criteria seemed to have given a better accuracy. For the purpose of consistent comparison, max depth was kept 5 for both models. In repeated trials and tests, decreasing or increasing max_depth always resulted in decreased accuracy. \n",
        "\n",
        "However criterion='entropy' gives a slightly higher recall.For this scenario, a high recall and precision both are very important.As both higher false negative rate or false positive rate may result a huge loss to the bank. In case of wrongly predicting a non defaulting customer as a defaulter, bank may end up loosing valuable customers of future and in case of wrongly predicting a defaulter a non defaulter may cause the bank to default it self.\n",
        "\n",
        "Therefore the best model should be more concerned with correct prediction of minority class i.e. default next month=1. Therefore the settings on entropy performed better. "
      ],
      "metadata": {
        "id": "0hwmhYhDWtPU"
      }
    },
    {
      "cell_type": "markdown",
      "metadata": {
        "id": "QwcecRukPrgw"
      },
      "source": [
        "#### Building the same decision tree but this time by RandomizedSearchCV over hyper-parameters and result comparisons."
      ]
    },
    {
      "cell_type": "code",
      "execution_count": null,
      "metadata": {
        "id": "4XHRmsWOPrgx"
      },
      "outputs": [],
      "source": [
        "dec_tree = DecisionTreeClassifier(random_state=123)\n",
        "param_dist = {\"max_depth\": [3,5,10,15,20],\n",
        "              \"max_features\": ['auto', 'sqrt', 'log2'],\n",
        "              \"min_samples_leaf\": [1,2,3,4,5,6,7,8,9],\n",
        "              \"criterion\": [\"gini\", \"entropy\"],\n",
        "              'splitter': ['best', 'random']}"
      ]
    },
    {
      "cell_type": "code",
      "source": [
        "tree_cv = RandomizedSearchCV(dec_tree, param_dist, cv=StratifiedKFold(n_splits=5),verbose=2, random_state=35, n_jobs = -1)"
      ],
      "metadata": {
        "id": "KCs7HU_lXVEy"
      },
      "execution_count": null,
      "outputs": []
    },
    {
      "cell_type": "code",
      "source": [
        "tree_cv.fit(X_train_transformed,np.ravel(y_train))\n",
        "\n",
        "# Print the tuned parameters and score\n",
        "print(\"Tuned Decision Tree Parameters: {}\".format(tree_cv.best_params_))\n",
        "print(\"Best score of cross validation is {}\".format(round(tree_cv.best_score_,4)))"
      ],
      "metadata": {
        "colab": {
          "base_uri": "https://localhost:8080/"
        },
        "id": "XB-ilF6BXkM1",
        "outputId": "940c5c74-4f20-44c7-e037-fad364da9074"
      },
      "execution_count": null,
      "outputs": [
        {
          "output_type": "stream",
          "name": "stdout",
          "text": [
            "Fitting 5 folds for each of 10 candidates, totalling 50 fits\n",
            "Tuned Decision Tree Parameters: {'splitter': 'best', 'min_samples_leaf': 6, 'max_features': 'log2', 'max_depth': 5, 'criterion': 'gini'}\n",
            "Best score of cross validation is 0.8128\n"
          ]
        }
      ]
    },
    {
      "cell_type": "code",
      "source": [
        "tree_cv.best_estimator_"
      ],
      "metadata": {
        "colab": {
          "base_uri": "https://localhost:8080/"
        },
        "id": "XIxuPlk5-Hsk",
        "outputId": "7cc681fc-8e01-43f6-e0f2-4ba2fa1cce24"
      },
      "execution_count": null,
      "outputs": [
        {
          "output_type": "execute_result",
          "data": {
            "text/plain": [
              "DecisionTreeClassifier(max_depth=5, max_features='log2', min_samples_leaf=6,\n",
              "                       random_state=123)"
            ]
          },
          "metadata": {},
          "execution_count": 147
        }
      ]
    },
    {
      "cell_type": "code",
      "source": [
        "y_predict_RS=tree_cv.best_estimator_.predict(X_test_transformed)"
      ],
      "metadata": {
        "id": "xwF7xn8u3cMP"
      },
      "execution_count": null,
      "outputs": []
    },
    {
      "cell_type": "code",
      "source": [
        "# Plotting confusion matrix\n",
        "print('Test accuracy for Decision tree Classifier using Randomised Searchcv:'\\\n",
        "      , round(accuracy_score(y_test,y_predict_RS)*100, 2), '%')\n",
        "plt.title('Confusion Matrix')\n",
        "sns.heatmap(confusion_matrix(y_test,y_predict_RS), annot=True, cmap=\"YlGn\",fmt=\"d\")\n",
        "plt.xlabel('Predicted classes')\n",
        "plt.ylabel('True Classes')\n",
        "plt.show()"
      ],
      "metadata": {
        "colab": {
          "base_uri": "https://localhost:8080/",
          "height": 312
        },
        "id": "h8IJSxPd35mG",
        "outputId": "0e711ac1-6c49-41e0-f446-f1d462511e86"
      },
      "execution_count": null,
      "outputs": [
        {
          "output_type": "stream",
          "name": "stdout",
          "text": [
            "Test accuracy for Decision tree Classifier using Randomised Searchcv: 81.82 %\n"
          ]
        },
        {
          "output_type": "display_data",
          "data": {
            "text/plain": [
              "<Figure size 432x288 with 2 Axes>"
            ],
            "image/png": "[encoded data removed]"
          },
          "metadata": {
            "needs_background": "light"
          }
        }
      ]
    },
    {
      "cell_type": "code",
      "source": [
        "analysis_report(y_test,y_predict_RS,'Randomised searchcv')"
      ],
      "metadata": {
        "colab": {
          "base_uri": "https://localhost:8080/"
        },
        "id": "alPMxuj1TIhD",
        "outputId": "72ff6478-090e-46c9-9b98-95eb1e0a4d1e"
      },
      "execution_count": null,
      "outputs": [
        {
          "output_type": "stream",
          "name": "stdout",
          "text": [
            "Confusion Matrix of Randomised searchcv: \n",
            " [[4459  214]\n",
            " [ 877  450]]\n",
            "Accuracy: 81.817 %\n",
            "Recall/Sensitivity/True Positive Rate: 0.3391\n",
            "Precision: 0.6777\n",
            "F1 score: 0.452\n"
          ]
        }
      ]
    },
    {
      "cell_type": "markdown",
      "source": [
        "### <font color='blue'>Analysis</font>\n",
        "The best estimator from the randomised search cv for decision tree classifier was as below:<br>\n",
        "DecisionTreeClassifier(max_depth=5, max_features='log2', min_samples_leaf=6,\n",
        "                       random_state=123,criterion='gini')<br>\n",
        "\n",
        "If we compare the results with the decision tree before with criterion='gini', after Randomised Search cv, the model accuracy has gone down a bit but we get a slightly better Recall and a little lower precision. Again the difference in both models is very insignificant as f1 scores are same. \n"
      ],
      "metadata": {
        "id": "74YXPiSM9ht9"
      }
    },
    {
      "cell_type": "markdown",
      "metadata": {
        "id": "dEvsYwiXPrg3"
      },
      "source": [
        "#### Now building same classifier by using following ensemble models. For each of these models calculate accuracy and plot the learning curves.\n",
        "\n",
        "* Random Forest \n",
        "* AdaBoost\n",
        "* Extra Trees Classifier \n",
        "* Gradient Boosted Trees \n"
      ]
    },
    {
      "cell_type": "markdown",
      "source": [
        "##<font color='blue'>Random Forest & Extra Trees Classifier</font>\n",
        "\n",
        "---\n",
        "\n"
      ],
      "metadata": {
        "id": "kA8yhcrUQLYI"
      }
    },
    {
      "cell_type": "code",
      "source": [
        "search_param = {'n_estimators':[10,25,50,100,200],\n",
        "                \"max_depth\": [3,5,10,15,20,50],\n",
        "              \"max_features\": ['auto', 'sqrt', 'log2'],\n",
        "              \"min_samples_leaf\": [1,2,3,4,5,6,7,8,9],\n",
        "              \"criterion\": [\"gini\", \"entropy\"],\n",
        "              'bootstrap':'True',\n",
        "              'oob_score':'True'}"
      ],
      "metadata": {
        "id": "dTa2DiAG8Jh4"
      },
      "execution_count": null,
      "outputs": []
    },
    {
      "cell_type": "code",
      "source": [
        "rnd_clf = RandomForestClassifier(random_state=123)\n",
        "ext_clf= ExtraTreesClassifier(random_state=123)"
      ],
      "metadata": {
        "id": "unNNsYtP1FiR"
      },
      "execution_count": null,
      "outputs": []
    },
    {
      "cell_type": "code",
      "source": [
        "rnd_clf_cv = RandomizedSearchCV(rnd_clf, search_param, cv=StratifiedKFold(n_splits=5),verbose=2, random_state=35, n_jobs = -1)\n",
        "ext_clf_cv = RandomizedSearchCV(ext_clf, search_param, cv=StratifiedKFold(n_splits=5),verbose=2, random_state=35, n_jobs = -1)"
      ],
      "metadata": {
        "id": "sgdd0iX5056j"
      },
      "execution_count": null,
      "outputs": []
    },
    {
      "cell_type": "code",
      "source": [
        "%%time\n",
        "start_time=time()\n",
        "rnd_clf_cv.fit(X_train_transformed,np.ravel(y_train))\n",
        "timing_rnd=time()-start_time\n",
        "\n",
        "start_time=time()\n",
        "ext_clf_cv.fit(X_train_transformed,np.ravel(y_train))\n",
        "timing_ext=time()-start_time\n",
        "\n",
        "print('Random Forest processing time : '+str(round(timing_rnd/60,2))+' minutes')\n",
        "print(rnd_clf_cv.best_estimator_)\n",
        "\n",
        "print('Extra Tree processing time : '+str(round(timing_ext/60,2))+' minutes')\n",
        "print(ext_clf_cv.best_estimator_)"
      ],
      "metadata": {
        "colab": {
          "base_uri": "https://localhost:8080/"
        },
        "id": "q_R7WHDR2IfI",
        "outputId": "2fe5d78b-b249-4171-d998-6c739b583750"
      },
      "execution_count": null,
      "outputs": [
        {
          "output_type": "stream",
          "name": "stdout",
          "text": [
            "Fitting 5 folds for each of 10 candidates, totalling 50 fits\n",
            "Fitting 5 folds for each of 10 candidates, totalling 50 fits\n",
            "Random Forest processing time : 4.68 minutes\n",
            "RandomForestClassifier(bootstrap='T', max_depth=50, min_samples_leaf=5,\n",
            "                       oob_score='T', random_state=123)\n",
            "Extra Tree processing time : 2.16 minutes\n",
            "ExtraTreesClassifier(bootstrap='u', max_depth=50, min_samples_leaf=8,\n",
            "                     n_estimators=50, oob_score='T', random_state=123)\n",
            "CPU times: user 28.9 s, sys: 381 ms, total: 29.3 s\n",
            "Wall time: 6min 50s\n"
          ]
        }
      ]
    },
    {
      "cell_type": "code",
      "source": [
        "\n",
        "y_pred_RF = rnd_clf_cv.best_estimator_.predict(X_test_transformed)\n",
        "print('Test accuracy for Random Forest Classifier using Randomised Searchcv:'\\\n",
        "      ,round(accuracy_score(y_test, y_pred_RF)*100,3),'%')"
      ],
      "metadata": {
        "colab": {
          "base_uri": "https://localhost:8080/"
        },
        "id": "xD3I_HvzYLB9",
        "outputId": "6b1b8673-a60b-4369-ee1d-4b1272684d69"
      },
      "execution_count": null,
      "outputs": [
        {
          "output_type": "stream",
          "name": "stdout",
          "text": [
            "Test accuracy for Random Forest Classifier using Randomised Searchcv: 82.067 %\n"
          ]
        }
      ]
    },
    {
      "cell_type": "code",
      "source": [
        "\n",
        "y_pred_EXT = ext_clf_cv.best_estimator_.predict(X_test_transformed)\n",
        "print('Test accuracy for Extra Tree Classifier using Randomised Searchcv:'\\\n",
        "      ,round(accuracy_score(y_test, y_pred_EXT)*100,3),'%')"
      ],
      "metadata": {
        "colab": {
          "base_uri": "https://localhost:8080/"
        },
        "id": "r4ZEbS8wYveY",
        "outputId": "bd7148dc-1d3f-42ae-e9b1-2153ee388df0"
      },
      "execution_count": null,
      "outputs": [
        {
          "output_type": "stream",
          "name": "stdout",
          "text": [
            "Test accuracy for Extra Tree Classifier using Randomised Searchcv: 82.133 %\n"
          ]
        }
      ]
    },
    {
      "cell_type": "markdown",
      "source": [
        "##<font color='blue'>Ada Boost Classifier</font>"
      ],
      "metadata": {
        "id": "DRcRdeaiWdko"
      }
    },
    {
      "cell_type": "code",
      "source": [
        "#Running Ada Boost classifier on the decision tree with best hyperparameters found from Q-2\n",
        "ada_clf3 = AdaBoostClassifier(\n",
        "    tree_cv.best_estimator_, n_estimators=200,\n",
        "    algorithm=\"SAMME.R\", learning_rate=0.5)\n",
        "ada_clf3.fit(X_train_transformed,np.ravel(y_train))\n",
        "y_pred_ada3 = ada_clf3.predict(X_test_transformed)\n",
        "print('Test accuracy for Ada Boost classifier on the decision tree with best hyperparameters:'\\\n",
        "      ,round(accuracy_score(y_test, y_pred_ada3)*100,3),'%')"
      ],
      "metadata": {
        "colab": {
          "base_uri": "https://localhost:8080/"
        },
        "id": "7fAqO6NnWaTB",
        "outputId": "6b66bc00-172d-4f69-e824-5c5c4b51a845"
      },
      "execution_count": null,
      "outputs": [
        {
          "output_type": "stream",
          "name": "stdout",
          "text": [
            "Test accuracy for Ada Boost classifier on the decision tree with best hyperparameters: 80.133 %\n"
          ]
        }
      ]
    },
    {
      "cell_type": "markdown",
      "source": [
        "## <font color='blue'>Gradient Boosted Trees</font>"
      ],
      "metadata": {
        "id": "TnvgxryCayOy"
      }
    },
    {
      "cell_type": "code",
      "source": [
        "search_param = {'loss':['deviance','exponential'],\n",
        "                \"max_depth\": [3,5,10,15,20,50],\n",
        "                'n_estimators':[10,25,50,100,200],\n",
        "                \"learning_rate\": [0.1,0.2,0.3,0.4,0.5,0.6,0.7,0.8,0.9,1.0],\n",
        "              \"max_features\": ['auto', 'sqrt', 'log2'],\n",
        "              \"min_samples_leaf\": [1,2,3,4,5,6,7,8,9],\n",
        "              \"criterion\": ['friedman_mse','squared_error']}"
      ],
      "metadata": {
        "id": "Argr1wZUbK5f"
      },
      "execution_count": null,
      "outputs": []
    },
    {
      "cell_type": "code",
      "source": [
        "GB_clf=GradientBoostingClassifier(random_state=123)\n",
        "GB_clf_cv = RandomizedSearchCV(GB_clf, search_param, cv=StratifiedKFold(n_splits=5),verbose=2, random_state=35, n_jobs = -1)"
      ],
      "metadata": {
        "id": "QKbCzJEcsTwk"
      },
      "execution_count": null,
      "outputs": []
    },
    {
      "cell_type": "code",
      "source": [
        "GB_clf_cv.fit(X_train_transformed,np.ravel(y_train))"
      ],
      "metadata": {
        "colab": {
          "base_uri": "https://localhost:8080/"
        },
        "id": "nsyHB0Fhv55J",
        "outputId": "87ff3353-4d1a-4410-9ec5-9419724b4eb2"
      },
      "execution_count": null,
      "outputs": [
        {
          "output_type": "stream",
          "name": "stdout",
          "text": [
            "Fitting 5 folds for each of 10 candidates, totalling 50 fits\n"
          ]
        },
        {
          "output_type": "execute_result",
          "data": {
            "text/plain": [
              "RandomizedSearchCV(cv=StratifiedKFold(n_splits=5, random_state=None, shuffle=False),\n",
              "                   estimator=GradientBoostingClassifier(random_state=123),\n",
              "                   n_jobs=-1,\n",
              "                   param_distributions={'criterion': ['friedman_mse',\n",
              "                                                      'squared_error'],\n",
              "                                        'learning_rate': [0.1, 0.2, 0.3, 0.4,\n",
              "                                                          0.5, 0.6, 0.7, 0.8,\n",
              "                                                          0.9, 1.0],\n",
              "                                        'loss': ['deviance', 'exponential'],\n",
              "                                        'max_depth': [3, 5, 10, 15, 20, 50],\n",
              "                                        'max_features': ['auto', 'sqrt',\n",
              "                                                         'log2'],\n",
              "                                        'min_samples_leaf': [1, 2, 3, 4, 5, 6,\n",
              "                                                             7, 8, 9],\n",
              "                                        'n_estimators': [10, 25, 50, 100, 200]},\n",
              "                   random_state=35, verbose=2)"
            ]
          },
          "metadata": {},
          "execution_count": 160
        }
      ]
    },
    {
      "cell_type": "code",
      "source": [
        "y_pred_GB = GB_clf_cv.best_estimator_.predict(X_test_transformed)\n",
        "print('Test accuracy for Gradient Boosted Tree Classifier using Randomised Searchcv:'\\\n",
        "      ,round(accuracy_score(y_test, y_pred_GB)*100,3),'%')"
      ],
      "metadata": {
        "colab": {
          "base_uri": "https://localhost:8080/"
        },
        "id": "pP0mXsrTEwnt",
        "outputId": "e2596067-296a-4528-f210-6beed214c635"
      },
      "execution_count": null,
      "outputs": [
        {
          "output_type": "stream",
          "name": "stdout",
          "text": [
            "Test accuracy for Gradient Boosted Tree Classifier using Randomised Searchcv: 81.833 %\n"
          ]
        }
      ]
    },
    {
      "cell_type": "markdown",
      "source": [
        "##<font color='blue'>Learning curves</font>"
      ],
      "metadata": {
        "id": "dogwr9kBTjlE"
      }
    },
    {
      "cell_type": "code",
      "source": [
        "from sklearn.model_selection import learning_curve\n",
        "from sklearn.model_selection import ShuffleSplit\n",
        "\n",
        "def plot_learning_curve(\n",
        "    estimator,\n",
        "    title,\n",
        "    X,\n",
        "    y,\n",
        "    ylim=None,\n",
        "    cv=None,\n",
        "    n_jobs=None,\n",
        "    train_sizes=np.linspace(0.1, 1.0, 5),\n",
        "):\n",
        "  fig, axes = plt.subplots(1, 2, figsize=(10, 5))\n",
        "\n",
        "  axes[0].set_title(title)\n",
        "  if ylim is not None:\n",
        "      axes[0].set_ylim(*ylim)\n",
        "      axes[0].set_xlabel(\"Training examples\")\n",
        "      axes[0].set_ylabel(\"Score\")\n",
        "\n",
        "  train_sizes, train_scores, test_scores, fit_times, _ = learning_curve(\n",
        "        estimator,\n",
        "        X,\n",
        "        y,\n",
        "        cv=cv,\n",
        "        n_jobs=n_jobs,\n",
        "        train_sizes=train_sizes,\n",
        "        return_times=True,\n",
        "    )\n",
        "  train_scores_mean = np.mean(train_scores, axis=1)\n",
        "  train_scores_std = np.std(train_scores, axis=1)\n",
        "  test_scores_mean = np.mean(test_scores, axis=1)\n",
        "  test_scores_std = np.std(test_scores, axis=1)\n",
        "  fit_times_mean = np.mean(fit_times, axis=1)\n",
        "  fit_times_std = np.std(fit_times, axis=1)\n",
        "\n",
        "    # Plot learning curve\n",
        "  axes[0].grid()\n",
        "  axes[0].fill_between(\n",
        "        train_sizes,\n",
        "        train_scores_mean - train_scores_std,\n",
        "        train_scores_mean + train_scores_std,\n",
        "        alpha=0.1,\n",
        "        color=\"r\",\n",
        "    )\n",
        "  axes[0].fill_between(\n",
        "        train_sizes,\n",
        "        test_scores_mean - test_scores_std,\n",
        "        test_scores_mean + test_scores_std,\n",
        "        alpha=0.1,\n",
        "        color=\"g\",\n",
        "    )\n",
        "  axes[0].plot(\n",
        "        train_sizes, train_scores_mean, \"o-\", color=\"r\", label=\"Training score\"\n",
        "    )\n",
        "  axes[0].plot(\n",
        "        train_sizes, test_scores_mean, \"o-\", color=\"g\", label=\"Cross-validation score\"\n",
        "    )\n",
        "  axes[0].legend(loc=\"best\")\n",
        "  fig.subplots_adjust(wspace=0.3)\n",
        "\n",
        "  # Plot fit_time vs score\n",
        "  fit_time_argsort = fit_times_mean.argsort()\n",
        "  fit_time_sorted = fit_times_mean[fit_time_argsort]\n",
        "  test_scores_mean_sorted = test_scores_mean[fit_time_argsort]\n",
        "  test_scores_std_sorted = test_scores_std[fit_time_argsort]\n",
        "  axes[1].grid()\n",
        "  axes[1].plot(fit_time_sorted, test_scores_mean_sorted, \"o-\")\n",
        "  axes[1].fill_between(\n",
        "        fit_time_sorted,\n",
        "        test_scores_mean_sorted - test_scores_std_sorted,\n",
        "        test_scores_mean_sorted + test_scores_std_sorted,\n",
        "        alpha=0.1)\n",
        "  axes[1].set_xlabel(\"fit_times\")\n",
        "  axes[1].set_ylabel(\"Score\")\n",
        "  axes[1].set_title(\"Performance of the model\")\n",
        "  \n",
        "  return plt"
      ],
      "metadata": {
        "id": "q_3a36z4Trtq"
      },
      "execution_count": null,
      "outputs": []
    },
    {
      "cell_type": "code",
      "source": [
        "\n",
        "\n",
        "title = \"Learning Curves of Gradient Boosted Tree Classifier\"\n",
        "plot_learning_curve(\n",
        "    GB_clf_cv.best_estimator_, title, X_train_transformed,np.ravel(y_train), ylim=(0.7, 1.01), cv=StratifiedKFold(n_splits=5), n_jobs=4\n",
        ");"
      ],
      "metadata": {
        "colab": {
          "base_uri": "https://localhost:8080/",
          "height": 351
        },
        "id": "fwXwaveeVsK1",
        "outputId": "e33b2798-cecb-456c-cea5-8754fc611e5c"
      },
      "execution_count": null,
      "outputs": [
        {
          "output_type": "display_data",
          "data": {
            "text/plain": [
              "<Figure size 720x360 with 2 Axes>"
            ],
            "image/png": "[encoded data removed]"
          },
          "metadata": {
            "needs_background": "light"
          }
        }
      ]
    },
    {
      "cell_type": "markdown",
      "source": [
        "From the learning curve, Gradient boost classifier seems to have performed great. The fact that with more and more training samples, the training score and validation score tends to converge. Also we can see the how the model performance improves with the score improvement."
      ],
      "metadata": {
        "id": "RXIbquP7AXre"
      }
    },
    {
      "cell_type": "code",
      "source": [
        "title = \"Learning Curves of Ada Boost Classifier\"\n",
        "plot_learning_curve(\n",
        "    ada_clf3, title, X_train_transformed,np.ravel(y_train), ylim=(0.7, 1.01), cv=StratifiedKFold(n_splits=5), n_jobs=4\n",
        ")"
      ],
      "metadata": {
        "colab": {
          "base_uri": "https://localhost:8080/",
          "height": 368
        },
        "id": "4m40sGzcYFvF",
        "outputId": "f6681d0f-3a85-4aec-b793-20d8c6514bfd"
      },
      "execution_count": null,
      "outputs": [
        {
          "output_type": "execute_result",
          "data": {
            "text/plain": [
              "<module 'matplotlib.pyplot' from '/usr/local/lib/python3.7/dist-packages/matplotlib/pyplot.py'>"
            ]
          },
          "metadata": {},
          "execution_count": 96
        },
        {
          "output_type": "display_data",
          "data": {
            "text/plain": [
              "<Figure size 720x360 with 2 Axes>"
            ],
            "image/png": "[encoded data removed]"
          },
          "metadata": {
            "needs_background": "light"
          }
        }
      ]
    },
    {
      "cell_type": "markdown",
      "source": [
        "Ada Boost classifier tends to underfit at smaller training samples as the training score is way higher than the validation score. The learning curves however show that this difference tends to converge but it requires more training samples and thats why we see that the model performance keeps on increasing. This model will perform better with bigger training samples. With the present training samples, it tends to underfit."
      ],
      "metadata": {
        "id": "_RSei_SoBhxi"
      }
    },
    {
      "cell_type": "code",
      "source": [
        "title = \"Learning Curves of Random forest Classifier \"\n",
        "plot_learning_curve(\n",
        "    rnd_clf_cv.best_estimator_, title, X_train_transformed,np.ravel(y_train), ylim=(0.7, 1.01), cv=StratifiedKFold(n_splits=5), n_jobs=4\n",
        ")"
      ],
      "metadata": {
        "colab": {
          "base_uri": "https://localhost:8080/",
          "height": 368
        },
        "id": "3Q6d_6V1ZAQu",
        "outputId": "808ce9fa-5288-48a5-c6f7-1a51b4e1df42"
      },
      "execution_count": null,
      "outputs": [
        {
          "output_type": "execute_result",
          "data": {
            "text/plain": [
              "<module 'matplotlib.pyplot' from '/usr/local/lib/python3.7/dist-packages/matplotlib/pyplot.py'>"
            ]
          },
          "metadata": {},
          "execution_count": 97
        },
        {
          "output_type": "display_data",
          "data": {
            "text/plain": [
              "<Figure size 720x360 with 2 Axes>"
            ],
            "image/png": "[encoded data removed]"
          },
          "metadata": {
            "needs_background": "light"
          }
        }
      ]
    },
    {
      "cell_type": "markdown",
      "source": [
        "The flat lines of the training score and validation score shows that clearly the Random Forest model was unable to learn throughout the training process. We can say its also a case of underfitting."
      ],
      "metadata": {
        "id": "yJaPtzNbDIeg"
      }
    },
    {
      "cell_type": "code",
      "source": [
        "title = \"Learning Curves of Extra Tree Classifier \"\n",
        "plot_learning_curve(\n",
        "    ext_clf_cv.best_estimator_, title, X_train_transformed,np.ravel(y_train), ylim=(0.7, 1.01), cv=StratifiedKFold(n_splits=5), n_jobs=4\n",
        ")"
      ],
      "metadata": {
        "colab": {
          "base_uri": "https://localhost:8080/",
          "height": 368
        },
        "id": "6od0DWESZGqW",
        "outputId": "e45f172f-bee1-48d2-9011-237c9319a471"
      },
      "execution_count": null,
      "outputs": [
        {
          "output_type": "execute_result",
          "data": {
            "text/plain": [
              "<module 'matplotlib.pyplot' from '/usr/local/lib/python3.7/dist-packages/matplotlib/pyplot.py'>"
            ]
          },
          "metadata": {},
          "execution_count": 98
        },
        {
          "output_type": "display_data",
          "data": {
            "text/plain": [
              "<Figure size 720x360 with 2 Axes>"
            ],
            "image/png": "[encoded data removed]"
          },
          "metadata": {
            "needs_background": "light"
          }
        }
      ]
    },
    {
      "cell_type": "markdown",
      "source": [
        "The Generalisation gap between the training score and validation score is very minimal which tends to converge also at more training samples. It shows some good fit properties but then around convergence it seems the model tends to overfit also. It seems the Extra Tree model has more capacity than is required for the problem, and, in turn, too much flexibility. Such a case happens when the model has learned the training data way too much and so it becomes less capable to generalise new data."
      ],
      "metadata": {
        "id": "uVsIUg53Eh9A"
      }
    },
    {
      "cell_type": "markdown",
      "source": [
        "###<font color='blue'>Analysis</font>"
      ],
      "metadata": {
        "id": "9M7pA5kXPldd"
      }
    },
    {
      "cell_type": "code",
      "source": [
        "analysis_report(y_test,y_pred_RF,'Random forest Classifier')"
      ],
      "metadata": {
        "colab": {
          "base_uri": "https://localhost:8080/"
        },
        "id": "5GD1_nq4RPs6",
        "outputId": "26e84adf-f25e-4957-d332-9630716a1f8e"
      },
      "execution_count": null,
      "outputs": [
        {
          "output_type": "stream",
          "name": "stdout",
          "text": [
            "Confusion Matrix of Random forest Classifier: \n",
            " [[4454  219]\n",
            " [ 857  470]]\n",
            "Accuracy: 82.067 %\n",
            "Recall/Sensitivity/True Positive Rate: 0.3542\n",
            "Precision: 0.6821\n",
            "F1 score: 0.466\n"
          ]
        }
      ]
    },
    {
      "cell_type": "code",
      "source": [
        "analysis_report(y_test,y_pred_EXT,'Extra Tree Classifier')"
      ],
      "metadata": {
        "colab": {
          "base_uri": "https://localhost:8080/"
        },
        "id": "OviVI5o7Vgo7",
        "outputId": "d8757a9e-2c78-41ab-835f-a38edaefbef8"
      },
      "execution_count": null,
      "outputs": [
        {
          "output_type": "stream",
          "name": "stdout",
          "text": [
            "Confusion Matrix of Extra Tree Classifier: \n",
            " [[4470  203]\n",
            " [ 869  458]]\n",
            "Accuracy: 82.133 %\n",
            "Recall/Sensitivity/True Positive Rate: 0.3451\n",
            "Precision: 0.6929\n",
            "F1 score: 0.461\n"
          ]
        }
      ]
    },
    {
      "cell_type": "code",
      "source": [
        "analysis_report(y_test,y_pred_ada3,'Ada Boost Classifier')"
      ],
      "metadata": {
        "colab": {
          "base_uri": "https://localhost:8080/"
        },
        "id": "JOTaAtDPVxA-",
        "outputId": "07d7c5a0-eb34-4f76-f8b6-e608fa1d7de8"
      },
      "execution_count": null,
      "outputs": [
        {
          "output_type": "stream",
          "name": "stdout",
          "text": [
            "Confusion Matrix of Ada Boost Classifier: \n",
            " [[4359  314]\n",
            " [ 878  449]]\n",
            "Accuracy: 80.133 %\n",
            "Recall/Sensitivity/True Positive Rate: 0.3384\n",
            "Precision: 0.5885\n",
            "F1 score: 0.43\n"
          ]
        }
      ]
    },
    {
      "cell_type": "code",
      "source": [
        "analysis_report(y_test,y_pred_GB,'Gradient Boosted Classifier')"
      ],
      "metadata": {
        "colab": {
          "base_uri": "https://localhost:8080/"
        },
        "id": "NL1YqxENV8u7",
        "outputId": "8313490b-6973-4a25-99ea-cc09109ceea1"
      },
      "execution_count": null,
      "outputs": [
        {
          "output_type": "stream",
          "name": "stdout",
          "text": [
            "Confusion Matrix of Gradient Boosted Classifier: \n",
            " [[4440  233]\n",
            " [ 857  470]]\n",
            "Accuracy: 81.833 %\n",
            "Recall/Sensitivity/True Positive Rate: 0.3542\n",
            "Precision: 0.6686\n",
            "F1 score: 0.463\n"
          ]
        }
      ]
    },
    {
      "cell_type": "markdown",
      "source": [
        "#<font color='blue'>Analysis</font>\n",
        "###<font color='green'>Decision Tree comparisons</font>"
      ],
      "metadata": {
        "id": "NTbiq5U3KtEE"
      }
    },
    {
      "cell_type": "markdown",
      "source": [
        "\n",
        "<style type=\"text/css\">\n",
        ".tg  {border-collapse:collapse;border-spacing:0;}\n",
        ".tg td{border-color:black;border-style:solid;border-width:1px;font-family:Arial, sans-serif;font-size:14px;\n",
        "  overflow:hidden;padding:10px 5px;word-break:normal;}\n",
        ".tg th{border-color:black;border-style:solid;border-width:1px;font-family:Arial, sans-serif;font-size:14px;\n",
        "  font-weight:normal;overflow:hidden;padding:10px 5px;word-break:normal;}\n",
        ".tg .tg-0pky{border-color:inherit;text-align:left;vertical-align:top}\n",
        ".tg .tg-0lax{text-align:left;vertical-align:top}\n",
        "</style>\n",
        "<table class=\"tg\">\n",
        "<thead>\n",
        "  <tr>\n",
        "    <th class=\"tg-0pky\">Confusion Matrix for 'criterion=entropy':</th>\n",
        "    <th class=\"tg-0pky\">Confusion Matrix for 'criterion=gini':</th>\n",
        "    <th class=\"tg-0lax\">Confusion Matrix with Randomised searchcv (criterion='gini')':</th>\n",
        "    <th class=\"tg-0lax\"></th>\n",
        "  </tr>\n",
        "</thead>\n",
        "<tbody>\n",
        "  <tr>\n",
        "    <td class=\"tg-0pky\">[[4457&nbsp;&nbsp;&nbsp;&nbsp;216]</td>\n",
        "    <td class=\"tg-0pky\">[[4465&nbsp;&nbsp;&nbsp;208]</td>\n",
        "    <td class=\"tg-0lax\">[[4459&nbsp;&nbsp;&nbsp;214]</td>\n",
        "    <td class=\"tg-0lax\"></td>\n",
        "  </tr>\n",
        "  <tr>\n",
        "    <td class=\"tg-0pky\">[ 877&nbsp;&nbsp;&nbsp;&nbsp;&nbsp;450]]</td>\n",
        "    <td class=\"tg-0pky\">[ 879&nbsp;&nbsp;&nbsp;&nbsp;448]]</td>\n",
        "    <td class=\"tg-0lax\">[ 877&nbsp;&nbsp;&nbsp;450]]</td>\n",
        "    <td class=\"tg-0lax\"></td>\n",
        "  </tr>\n",
        "  <tr>\n",
        "    <td class=\"tg-0pky\">Accuracy: 81.783 %</td>\n",
        "    <td class=\"tg-0pky\">Accuracy: 81.883 %</td>\n",
        "    <td class=\"tg-0lax\">Accuracy: 81.817 %</td>\n",
        "    <td class=\"tg-0lax\"></td>\n",
        "  </tr>\n",
        "  <tr>\n",
        "    <td class=\"tg-0pky\">Recall/Sensitivity/True Positive Rate: 0.3391</td>\n",
        "    <td class=\"tg-0pky\">Recall/Sensitivity/True Positive Rate: 0.3376</td>\n",
        "    <td class=\"tg-0lax\">Recall/Sensitivity/True Positive Rate: 0.3391</td>\n",
        "    <td class=\"tg-0lax\"></td>\n",
        "  </tr>\n",
        "  <tr>\n",
        "    <td class=\"tg-0pky\">Precision: 0.6757</td>\n",
        "    <td class=\"tg-0pky\">Precision: 0.6829</td>\n",
        "    <td class=\"tg-0lax\">Precision: 0.6777</td>\n",
        "    <td class=\"tg-0lax\"></td>\n",
        "  </tr>\n",
        "  <tr>\n",
        "    <td class=\"tg-0pky\">F1 for Random Forest: 0.452</td>\n",
        "    <td class=\"tg-0pky\">F1 for Random Forest: 0.452</td>\n",
        "    <td class=\"tg-0lax\">F1 for Random Forest: 0.452</td>\n",
        "    <td class=\"tg-0lax\"></td>\n",
        "  </tr>\n",
        "</tbody>\n",
        "</table>"
      ],
      "metadata": {
        "id": "XO8cMZkZK5qt"
      }
    },
    {
      "cell_type": "markdown",
      "source": [
        "As can be seen, we applied different parameters on decision tree classifier and also performed Randomised Search CV, however very little difference can be seen. As f1 score is pretty much same. For this credit card default scenario, our results should have both higher recall and precision."
      ],
      "metadata": {
        "id": "ZYNqugv8OWTA"
      }
    },
    {
      "cell_type": "markdown",
      "source": [
        "###<font color='green'>Comparisons of Random Forest, Extra Tree, Ada Boost and Gradient Boost Classifiers</font>"
      ],
      "metadata": {
        "id": "UAIDBuVm8lXR"
      }
    },
    {
      "cell_type": "markdown",
      "source": [
        "<style type=\"text/css\">\n",
        ".tg  {border-collapse:collapse;border-spacing:0;}\n",
        ".tg td{border-color:black;border-style:solid;border-width:1px;font-family:Arial, sans-serif;font-size:14px;\n",
        "  overflow:hidden;padding:10px 5px;word-break:normal;}\n",
        ".tg th{border-color:black;border-style:solid;border-width:1px;font-family:Arial, sans-serif;font-size:14px;\n",
        "  font-weight:normal;overflow:hidden;padding:10px 5px;word-break:normal;}\n",
        ".tg .tg-0pky{border-color:inherit;text-align:left;vertical-align:top}\n",
        ".tg .tg-0lax{text-align:left;vertical-align:top}\n",
        "</style>\n",
        "<table class=\"tg\">\n",
        "<thead>\n",
        "  <tr>\n",
        "    <th class=\"tg-0pky\">Confusion Matrix of Random forest Classifier:</th>\n",
        "    <th class=\"tg-0pky\">Confusion Matrix of Extra Tree Classifier:</th>\n",
        "    <th class=\"tg-0lax\">Confusion Matrix of Ada Boost Classifier:</th>\n",
        "    <th class=\"tg-0lax\">Confusion Matrix of Gradient Boosted Classifier:</th>\n",
        "    <th class=\"tg-0lax\"></th>\n",
        "  </tr>\n",
        "</thead>\n",
        "<tbody>\n",
        "  <tr>\n",
        "    <td class=\"tg-0pky\">[[4454&nbsp;&nbsp;&nbsp;219]</td>\n",
        "    <td class=\"tg-0pky\">[[4470&nbsp;&nbsp;&nbsp;&nbsp;203]</td>\n",
        "    <td class=\"tg-0lax\">[[4359&nbsp;&nbsp;&nbsp;&nbsp;314]</td>\n",
        "    <td class=\"tg-0lax\">[[4440&nbsp;&nbsp;&nbsp;&nbsp;233]</td>\n",
        "    <td class=\"tg-0lax\"></td>\n",
        "  </tr>\n",
        "  <tr>\n",
        "    <td class=\"tg-0pky\">[ 857&nbsp;&nbsp;&nbsp;470]]</td>\n",
        "    <td class=\"tg-0pky\">[ 869&nbsp;&nbsp;&nbsp;&nbsp;&nbsp;458]]</td>\n",
        "    <td class=\"tg-0lax\">[ 878&nbsp;&nbsp;&nbsp;&nbsp;449]]</td>\n",
        "    <td class=\"tg-0lax\">[ 857&nbsp;&nbsp;&nbsp;&nbsp;&nbsp;470]]</td>\n",
        "    <td class=\"tg-0lax\"></td>\n",
        "  </tr>\n",
        "  <tr>\n",
        "    <td class=\"tg-0pky\">Accuracy: 82.067 %</td>\n",
        "    <td class=\"tg-0pky\">Accuracy: 82.133 %</td>\n",
        "    <td class=\"tg-0lax\">Accuracy: 80.133 %</td>\n",
        "    <td class=\"tg-0lax\">Accuracy: 81.833 %</td>\n",
        "    <td class=\"tg-0lax\"></td>\n",
        "  </tr>\n",
        "  <tr>\n",
        "    <td class=\"tg-0pky\">Recall/Sensitivity/True Positive Rate: 0.3542</td>\n",
        "    <td class=\"tg-0pky\">Recall/Sensitivity/True Positive Rate: 0.3451</td>\n",
        "    <td class=\"tg-0lax\">Recall/Sensitivity/True Positive Rate: 0.3384</td>\n",
        "    <td class=\"tg-0lax\">Recall/Sensitivity/True Positive Rate: 0.3542</td>\n",
        "    <td class=\"tg-0lax\"></td>\n",
        "  </tr>\n",
        "  <tr>\n",
        "    <td class=\"tg-0pky\">Precision: 0.6821</td>\n",
        "    <td class=\"tg-0pky\">Precision: 0.6929</td>\n",
        "    <td class=\"tg-0lax\">Precision: 0.5885</td>\n",
        "    <td class=\"tg-0lax\">Precision: 0.6686</td>\n",
        "    <td class=\"tg-0lax\"></td>\n",
        "  </tr>\n",
        "  <tr>\n",
        "    <td class=\"tg-0pky\">F1 score: 0.466</td>\n",
        "    <td class=\"tg-0pky\">F1 score: 0.461</td>\n",
        "    <td class=\"tg-0lax\">F1 score: 0.43</td>\n",
        "    <td class=\"tg-0lax\">F1 score: 0.463</td>\n",
        "    <td class=\"tg-0lax\"></td>\n",
        "  </tr>\n",
        "</tbody>\n",
        "</table>"
      ],
      "metadata": {
        "id": "8XaH7y2Na5Sy"
      }
    },
    {
      "cell_type": "markdown",
      "source": [
        "We can clearly see, Ada boost was the most inefficient in terms of its precision. Recall is still comparitively better and thus contributing towards its f1-Score, but this model resulted in most false negatives.\n",
        "\n",
        "Both Random Forest and extra tree classifiers have the highest model accuracies with highest recalls and precisions.However as we see from the learning curves, it also shows underfits for random forest and overfit case for extra Tree. Gradient Boosted Tree classifier seems to have performed the best with high recalls, precisions and high f1-score. The learning curves depicts a great level of generalisation which shows its a good fit model for the credit card default study.\n",
        "\n",
        "The main reason of success of Gradient boosted tree is also because this was a very unbalanced dataset and so instead of modifying the weight of the training instances at each step, gradient boosting will try to fit a new predictor to the residual errors made by the previous predictor.\n",
        "\n",
        "The second best is Extra Tree Classifier and the reason for its success is that it reduces the biasness by reducing the variance more strongly than the weaker randomization schemes used by other methods. The model is able to fit a number of randomized decision trees on various sub-samples of the dataset and uses averaging to improve the predictive accuracy. Thats why we are able to see the highest precision by Extra tree classifier."
      ],
      "metadata": {
        "id": "BYRTNPSUcTye"
      }
    },
    {
      "cell_type": "code",
      "source": [],
      "metadata": {
        "id": "rLaoX345edx0"
      },
      "execution_count": null,
      "outputs": []
    }
  ],
  "metadata": {
    "colab": {
      "collapsed_sections": [],
      "provenance": []
    },
    "kernelspec": {
      "display_name": "Python 3",
      "language": "python",
      "name": "python3"
    },
    "language_info": {
      "codemirror_mode": {
        "name": "ipython",
        "version": 3
      },
      "file_extension": ".py",
      "mimetype": "text/x-python",
      "name": "python",
      "nbconvert_exporter": "python",
      "pygments_lexer": "ipython3",
      "version": "3.7.4"
    }
  },
  "nbformat": 4,
  "nbformat_minor": 0
}